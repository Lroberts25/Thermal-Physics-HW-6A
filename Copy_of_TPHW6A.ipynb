{
  "nbformat": 4,
  "nbformat_minor": 0,
  "metadata": {
    "colab": {
      "provenance": [],
      "authorship_tag": "ABX9TyMkgxyUsRYNwbxVjgQ2xkrv",
      "include_colab_link": true
    },
    "kernelspec": {
      "name": "python3",
      "display_name": "Python 3"
    },
    "language_info": {
      "name": "python"
    }
  },
  "cells": [
    {
      "cell_type": "markdown",
      "metadata": {
        "id": "view-in-github",
        "colab_type": "text"
      },
      "source": [
        "<a href=\"https://colab.research.google.com/github/Lroberts25/Thermal-Physics-HW-6A/blob/main/Copy_of_TPHW6A.ipynb\" target=\"_parent\"><img src=\"https://colab.research.google.com/assets/colab-badge.svg\" alt=\"Open In Colab\"/></a>"
      ]
    },
    {
      "cell_type": "code",
      "execution_count": 1,
      "metadata": {
        "colab": {
          "base_uri": "https://localhost:8080/"
        },
        "id": "YFUwvGFKDlYA",
        "outputId": "ba7b4115-3055-4450-c6a0-0848c067956e"
      },
      "outputs": [
        {
          "output_type": "stream",
          "name": "stdout",
          "text": [
            "Looking in indexes: https://pypi.org/simple, https://us-python.pkg.dev/colab-wheels/public/simple/\n",
            "Collecting whit-phys-util\n",
            "  Downloading whit_phys_util-0.2.8-py3-none-any.whl (18 kB)\n",
            "Collecting python-dotenv>=0.10.4\n",
            "  Downloading python_dotenv-1.0.0-py3-none-any.whl (19 kB)\n",
            "Requirement already satisfied: pydantic>=1.7.3 in /usr/local/lib/python3.9/dist-packages (from whit-phys-util) (1.10.7)\n",
            "Requirement already satisfied: typing-extensions>=4.2.0 in /usr/local/lib/python3.9/dist-packages (from pydantic>=1.7.3->whit-phys-util) (4.5.0)\n",
            "Installing collected packages: python-dotenv, whit-phys-util\n",
            "Successfully installed python-dotenv-1.0.0 whit-phys-util-0.2.8\n"
          ]
        }
      ],
      "source": [
        "!pip install whit-phys-util"
      ]
    },
    {
      "cell_type": "code",
      "source": [
        "import numpy as np\n",
        "import pandas as pd\n",
        "import matplotlib.pyplot as plt\n",
        "import whit_phys_util as buc\n",
        "import scipy.constants as sciConst"
      ],
      "metadata": {
        "id": "6BY7rYNHDuzZ",
        "colab": {
          "base_uri": "https://localhost:8080/"
        },
        "outputId": "c58e2fe6-74dc-4090-8c90-a6bd376346cd"
      },
      "execution_count": 2,
      "outputs": [
        {
          "output_type": "stream",
          "name": "stdout",
          "text": [
            "Mounted at /content/drive\n"
          ]
        }
      ]
    },
    {
      "cell_type": "code",
      "source": [
        "from scipy.special import comb"
      ],
      "metadata": {
        "id": "ThugmHUqD1xW"
      },
      "execution_count": 3,
      "outputs": []
    },
    {
      "cell_type": "code",
      "source": [
        "import scipy.constants as const"
      ],
      "metadata": {
        "id": "KzcFD62SIntA"
      },
      "execution_count": 4,
      "outputs": []
    },
    {
      "cell_type": "code",
      "source": [
        "repo = buc.local_repository(\"https://github.com/Lroberts25/Thermal-Physics-HW-6A\")"
      ],
      "metadata": {
        "id": "w8UMcQmcD3ce",
        "colab": {
          "base_uri": "https://localhost:8080/"
        },
        "outputId": "2714315a-1603-4125-fa90-afbf3c7cd6d6"
      },
      "execution_count": 5,
      "outputs": [
        {
          "output_type": "stream",
          "name": "stdout",
          "text": [
            "Cloning repository from GitHub.\n"
          ]
        }
      ]
    },
    {
      "cell_type": "markdown",
      "source": [
        "# 6.21"
      ],
      "metadata": {
        "id": "za9h8CGTXi4U"
      }
    },
    {
      "cell_type": "markdown",
      "source": [
        "## a.)"
      ],
      "metadata": {
        "id": "YvJbb_CrXm0S"
      }
    },
    {
      "cell_type": "code",
      "source": [
        "e = 2.71828"
      ],
      "metadata": {
        "id": "lniUrYGXYKSo"
      },
      "execution_count": 6,
      "outputs": []
    },
    {
      "cell_type": "code",
      "source": [
        "k = 1.38e-23"
      ],
      "metadata": {
        "id": "EyIiorkbaPtn"
      },
      "execution_count": 7,
      "outputs": []
    },
    {
      "cell_type": "code",
      "source": [
        "eps = 10"
      ],
      "metadata": {
        "id": "FAPRMOYCaoaI"
      },
      "execution_count": 8,
      "outputs": []
    },
    {
      "cell_type": "code",
      "source": [
        "def y(T):\n",
        "  return k*T/eps"
      ],
      "metadata": {
        "id": "dPqe1ADDZv79"
      },
      "execution_count": 9,
      "outputs": []
    },
    {
      "cell_type": "code",
      "source": [
        "def partition(n,T):\n",
        "  return e**((-1)*(1.03*n-0.03*n**2)/(k)*T);"
      ],
      "metadata": {
        "id": "SDflY4QWXhih"
      },
      "execution_count": 10,
      "outputs": []
    },
    {
      "cell_type": "code",
      "source": [
        "fig1, ax1 = plt.subplots()\n",
        "n1 = np.linspace(0,5)\n",
        "n2 = np.linspace(6,10)\n",
        "n3 = np.linspace(11,15)\n",
        "rat = np.linspace(0,3)\n",
        "T = 300+rat\n",
        "ax1.plot(rat, partition(n1,T));\n",
        "ax1.plot(rat, partition(n2,T));\n",
        "ax1.plot(rat, partition(n3,T));\n",
        "plt.legend()"
      ],
      "metadata": {
        "id": "QfTUKq9aZ8en",
        "colab": {
          "base_uri": "https://localhost:8080/",
          "height": 484
        },
        "outputId": "8ae07383-210f-4c17-9581-724ab0213e1f"
      },
      "execution_count": 11,
      "outputs": [
        {
          "output_type": "stream",
          "name": "stderr",
          "text": [
            "WARNING:matplotlib.legend:No artists with labels found to put in legend.  Note that artists whose label start with an underscore are ignored when legend() is called with no argument.\n"
          ]
        },
        {
          "output_type": "execute_result",
          "data": {
            "text/plain": [
              "<matplotlib.legend.Legend at 0x7f015bb6bbb0>"
            ]
          },
          "metadata": {},
          "execution_count": 11
        },
        {
          "output_type": "display_data",
          "data": {
            "text/plain": [
              "<Figure size 640x480 with 1 Axes>"
            ],
            "image/png": "[encoded data removed]"
          },
          "metadata": {}
        }
      ]
    },
    {
      "cell_type": "markdown",
      "source": [
        "## b.)"
      ],
      "metadata": {
        "id": "GoufKM1vf6lC"
      }
    },
    {
      "cell_type": "markdown",
      "source": [
        "Average energy equals $E = -\\frac{1}{Z} \\frac{ \\delta Z}{\\delta \\beta}$\n",
        "\n",
        "using the equation from a this becomes: $E = -\\frac{1}{e^{-1.03n-0.03n β}}*(-1.03n-0.03n)e^{(-1.03n-0.03)β}$"
      ],
      "metadata": {
        "id": "4D1T1l7sgB23"
      }
    },
    {
      "cell_type": "code",
      "source": [
        "def E(n,T):\n",
        "  return -1*(1/partition(n,T))*(-1.03*n - 0.03*n)*partition(n,T)"
      ],
      "metadata": {
        "id": "6F8FMs-Gb7-_"
      },
      "execution_count": 12,
      "outputs": []
    },
    {
      "cell_type": "code",
      "source": [
        "fig2, ax2 = plt.subplots()\n",
        "n1 = np.linspace(0,5)\n",
        "n2 = np.linspace(6,10)\n",
        "n3 = np.linspace(11,15)\n",
        "rat = np.linspace(0,3)\n",
        "T = 300+rat\n",
        "ax1.plot(rat, E(n1,T));\n",
        "ax1.plot(rat, E(n2,T));\n",
        "ax1.plot(rat, E(n3,T));"
      ],
      "metadata": {
        "id": "1E66Nwo1zQJL",
        "colab": {
          "base_uri": "https://localhost:8080/",
          "height": 503
        },
        "outputId": "3d35ad7d-4018-4691-eaec-28c5232f6167"
      },
      "execution_count": 17,
      "outputs": [
        {
          "output_type": "stream",
          "name": "stderr",
          "text": [
            "<ipython-input-12-050e8980ee8d>:2: RuntimeWarning: divide by zero encountered in true_divide\n",
            "  return -1*(1/partition(n,T))*(-1.03*n - 0.03*n)*partition(n,T)\n",
            "<ipython-input-12-050e8980ee8d>:2: RuntimeWarning: invalid value encountered in multiply\n",
            "  return -1*(1/partition(n,T))*(-1.03*n - 0.03*n)*partition(n,T)\n"
          ]
        },
        {
          "output_type": "display_data",
          "data": {
            "text/plain": [
              "<Figure size 640x480 with 1 Axes>"
            ],
            "image/png": "[encoded data removed]"
          },
          "metadata": {}
        }
      ]
    },
    {
      "cell_type": "markdown",
      "source": [
        "## c.)"
      ],
      "metadata": {
        "id": "124AdJiQziIg"
      }
    },
    {
      "cell_type": "markdown",
      "source": [
        "Heat capacity is $C=\\frac{\\delta E}{\\delta T}$\n",
        "\n",
        "so using E from (b), $C= \\frac{(-1.03n-0.03n)}{ke^{(-1.03n-0.03n) \\beta}}\\frac{2(1.03n-0.03n)}{k}e^{(-1.03n-0.03n) \\beta}$ "
      ],
      "metadata": {
        "id": "cfc302moB6Y3"
      }
    },
    {
      "cell_type": "code",
      "source": [
        "def C(n,T):\n",
        "  return -1*(-1.03*n - 0.03*n)*(1/(k*partition(n,T)))*(2*(-1.03*n - 0.03*n)/k)*partition(n,T)"
      ],
      "metadata": {
        "id": "rrbBf1SyzkXb"
      },
      "execution_count": 14,
      "outputs": []
    },
    {
      "cell_type": "code",
      "source": [
        "fig2, ax2 = plt.subplots()\n",
        "n1 = np.linspace(0,5)\n",
        "n2 = np.linspace(6,10)\n",
        "n3 = np.linspace(11,15)\n",
        "rat = np.linspace(0,3)\n",
        "T = 300+rat\n",
        "ax1.plot(rat, C(n1,T));\n",
        "ax1.plot(rat, C(n2,T));\n",
        "ax1.plot(rat, C(n3,T));"
      ],
      "metadata": {
        "colab": {
          "base_uri": "https://localhost:8080/",
          "height": 503
        },
        "id": "rvkVQV9cNmrG",
        "outputId": "3a5d2ef3-8799-4edc-ff77-735665c02435"
      },
      "execution_count": 16,
      "outputs": [
        {
          "output_type": "stream",
          "name": "stderr",
          "text": [
            "<ipython-input-14-bc96af299cab>:2: RuntimeWarning: divide by zero encountered in true_divide\n",
            "  return -1*(-1.03*n - 0.03*n)*(1/(k*partition(n,T)))*(2*(-1.03*n - 0.03*n)/k)*partition(n,T)\n",
            "<ipython-input-14-bc96af299cab>:2: RuntimeWarning: invalid value encountered in multiply\n",
            "  return -1*(-1.03*n - 0.03*n)*(1/(k*partition(n,T)))*(2*(-1.03*n - 0.03*n)/k)*partition(n,T)\n"
          ]
        },
        {
          "output_type": "display_data",
          "data": {
            "text/plain": [
              "<Figure size 640x480 with 1 Axes>"
            ],
            "image/png": "[encoded data removed]"
          },
          "metadata": {}
        }
      ]
    },
    {
      "cell_type": "markdown",
      "source": [
        "##"
      ],
      "metadata": {
        "id": "wiV7vPGTNpKT"
      }
    }
  ]
}