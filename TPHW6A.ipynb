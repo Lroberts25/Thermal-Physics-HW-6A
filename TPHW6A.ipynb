{
  "nbformat": 4,
  "nbformat_minor": 0,
  "metadata": {
    "colab": {
      "provenance": [],
      "authorship_tag": "ABX9TyNyHLxwIAwxJhSYj95xB9Rk",
      "include_colab_link": true
    },
    "kernelspec": {
      "name": "python3",
      "display_name": "Python 3"
    },
    "language_info": {
      "name": "python"
    }
  },
  "cells": [
    {
      "cell_type": "markdown",
      "metadata": {
        "id": "view-in-github",
        "colab_type": "text"
      },
      "source": [
        "<a href=\"https://colab.research.google.com/github/Lroberts25/Thermal-Physics-HW-6A/blob/main/TPHW5.ipynb\" target=\"_parent\"><img src=\"https://colab.research.google.com/assets/colab-badge.svg\" alt=\"Open In Colab\"/></a>"
      ]
    },
    {
      "cell_type": "code",
      "execution_count": 1,
      "metadata": {
        "colab": {
          "base_uri": "https://localhost:8080/"
        },
        "id": "YFUwvGFKDlYA",
        "outputId": "1058cf43-3b0b-4aba-f321-93125a9e8c20"
      },
      "outputs": [
        {
          "output_type": "stream",
          "name": "stdout",
          "text": [
            "Looking in indexes: https://pypi.org/simple, https://us-python.pkg.dev/colab-wheels/public/simple/\n",
            "Collecting whit-phys-util\n",
            "  Downloading whit_phys_util-0.2.8-py3-none-any.whl (18 kB)\n",
            "Requirement already satisfied: pydantic>=1.7.3 in /usr/local/lib/python3.9/dist-packages (from whit-phys-util) (1.10.7)\n",
            "Collecting python-dotenv>=0.10.4\n",
            "  Downloading python_dotenv-1.0.0-py3-none-any.whl (19 kB)\n",
            "Requirement already satisfied: typing-extensions>=4.2.0 in /usr/local/lib/python3.9/dist-packages (from pydantic>=1.7.3->whit-phys-util) (4.5.0)\n",
            "Installing collected packages: python-dotenv, whit-phys-util\n",
            "Successfully installed python-dotenv-1.0.0 whit-phys-util-0.2.8\n"
          ]
        }
      ],
      "source": [
        "!pip install whit-phys-util"
      ]
    },
    {
      "cell_type": "code",
      "source": [
        "import numpy as np\n",
        "import pandas as pd\n",
        "import matplotlib.pyplot as plt\n",
        "import whit_phys_util as buc\n",
        "import scipy.constants as sciConst"
      ],
      "metadata": {
        "id": "6BY7rYNHDuzZ",
        "outputId": "a676110e-0a25-4536-ecac-c2605c193373",
        "colab": {
          "base_uri": "https://localhost:8080/"
        }
      },
      "execution_count": 2,
      "outputs": [
        {
          "output_type": "stream",
          "name": "stdout",
          "text": [
            "Mounted at /content/drive\n"
          ]
        }
      ]
    },
    {
      "cell_type": "code",
      "source": [
        "from scipy.special import comb"
      ],
      "metadata": {
        "id": "ThugmHUqD1xW"
      },
      "execution_count": 3,
      "outputs": []
    },
    {
      "cell_type": "code",
      "source": [
        "import scipy.constants as const"
      ],
      "metadata": {
        "id": "KzcFD62SIntA"
      },
      "execution_count": 4,
      "outputs": []
    },
    {
      "cell_type": "code",
      "source": [
        "repo = buc.local_repository(\"https://github.com/Lroberts25/Thermal-Physics-HW-6A\")"
      ],
      "metadata": {
        "id": "w8UMcQmcD3ce",
        "outputId": "01d7cc50-f4d4-40e1-b144-33848e07c944",
        "colab": {
          "base_uri": "https://localhost:8080/"
        }
      },
      "execution_count": 5,
      "outputs": [
        {
          "output_type": "stream",
          "name": "stdout",
          "text": [
            "Cloning repository from GitHub.\n"
          ]
        }
      ]
    }
  ]
}
